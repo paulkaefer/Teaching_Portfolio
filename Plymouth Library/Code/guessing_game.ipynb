{
 "cells": [
  {
   "cell_type": "code",
   "execution_count": null,
   "metadata": {},
   "outputs": [],
   "source": [
    "# This line is a comment!\n",
    "\n",
    "# we need to import the random module for this to work:\n",
    "import random\n",
    "\n",
    "# generate a random integer from 1 to 100:\n",
    "random_number = random.randint(1, 100)\n",
    "\n",
    "guessed = False\n",
    "while (guessed == False):\n",
    "    guess = int(input(\"Guess a number (1-100): \"))\n",
    "    if guess == random_number:\n",
    "        print(\"Correct!\")\n",
    "        break\n",
    "    elif guess < random_number:\n",
    "        print(\"Too low. Try again!\")\n",
    "    else:\n",
    "        print(\"Too high. Try again!\")"
   ]
  },
  {
   "cell_type": "code",
   "execution_count": null,
   "metadata": {},
   "outputs": [],
   "source": []
  }
 ],
 "metadata": {
  "kernelspec": {
   "display_name": "Python 3",
   "language": "python",
   "name": "python3"
  },
  "language_info": {
   "codemirror_mode": {
    "name": "ipython",
    "version": 3
   },
   "file_extension": ".py",
   "mimetype": "text/x-python",
   "name": "python",
   "nbconvert_exporter": "python",
   "pygments_lexer": "ipython3",
   "version": "3.7.4"
  }
 },
 "nbformat": 4,
 "nbformat_minor": 4
}
