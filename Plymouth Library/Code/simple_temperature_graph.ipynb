{
 "cells": [
  {
   "cell_type": "code",
   "execution_count": null,
   "metadata": {},
   "outputs": [],
   "source": [
    "import matplotlib.pyplot as plt\n",
    "\n",
    "# data from https://www.accuweather.com/en/us/minneapolis/55415/october-weather/348794\n",
    "MN_October_temps = [72, 75, 76, 78, 73, 61, 49, 64, 69, 71, 80, 63, 45, 42]\n",
    "\n",
    "plt.plot(MN_October_temps)\n",
    "plt.title('October high temperatures: MN')\n",
    "plt.xlabel('Day')\n",
    "plt.ylabel('Temperature (°F)')\n",
    "plt.show()"
   ]
  },
  {
   "cell_type": "code",
   "execution_count": null,
   "metadata": {},
   "outputs": [],
   "source": []
  }
 ],
 "metadata": {
  "kernelspec": {
   "display_name": "Python 3",
   "language": "python",
   "name": "python3"
  },
  "language_info": {
   "codemirror_mode": {
    "name": "ipython",
    "version": 3
   },
   "file_extension": ".py",
   "mimetype": "text/x-python",
   "name": "python",
   "nbconvert_exporter": "python",
   "pygments_lexer": "ipython3",
   "version": "3.7.4"
  }
 },
 "nbformat": 4,
 "nbformat_minor": 4
}
